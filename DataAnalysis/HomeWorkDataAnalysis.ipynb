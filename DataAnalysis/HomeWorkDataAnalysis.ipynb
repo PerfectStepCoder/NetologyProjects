{
 "cells": [
  {
   "cell_type": "code",
   "execution_count": 2,
   "metadata": {
    "collapsed": true
   },
   "outputs": [],
   "source": [
    "import pandas as pd\n",
    "import numpy as np\n",
    "import matplotlib.pyplot as plt\n",
    "%matplotlib inline\n",
    "import io"
   ]
  },
  {
   "cell_type": "markdown",
   "metadata": {},
   "source": [
    "## Домашнее задание"
   ]
  },
  {
   "cell_type": "markdown",
   "metadata": {},
   "source": [
    "С использованием Pandas написать функцию, которая загружает указанные года и выводит ТОП-3 популярных имен.\n",
    "\n",
    "Например:\n",
    "count_top5([1880]) == [‘John’, ‘William’, ‘Mary’]\n",
    "count_top5([1900, 1950, 2000]) == [‘James’, ‘John’, ‘Robert’]\n",
    "\n",
    "Дополнительное задание:\n",
    "С использованием Pandas написать функцию, которая возвращает динамику изменения количества имен за указанные года в разрезе полов.\n",
    "\n",
    "Например:\n",
    "count_dynamics([1900, 1950, 2000]) == {’M’: [146391, 1675092, 1262262], ’F’: [279409, 1390888, 670434]}"
   ]
  },
  {
   "cell_type": "code",
   "execution_count": 6,
   "metadata": {
    "collapsed": false
   },
   "outputs": [],
   "source": [
    "# Загрузка всех файлов за все года\n",
    "names_by_year = {}\n",
    "for year in range(1880, 2016, 1):\n",
    "    names_by_year[year] = pd.read_csv(\n",
    "        'StatisticNamesUSA/yob{}.txt'.format(year),\n",
    "        names=['Name','Gender','Count']\n",
    "    )\n",
    "names_all = pd.concat(names_by_year, names=['Year', 'Pos'])"
   ]
  },
  {
   "cell_type": "code",
   "execution_count": 7,
   "metadata": {
    "collapsed": false
   },
   "outputs": [
    {
     "data": {
      "text/html": [
       "<div>\n",
       "<table border=\"1\" class=\"dataframe\">\n",
       "  <thead>\n",
       "    <tr style=\"text-align: right;\">\n",
       "      <th></th>\n",
       "      <th></th>\n",
       "      <th>Name</th>\n",
       "      <th>Gender</th>\n",
       "      <th>Count</th>\n",
       "    </tr>\n",
       "    <tr>\n",
       "      <th>Year</th>\n",
       "      <th>Pos</th>\n",
       "      <th></th>\n",
       "      <th></th>\n",
       "      <th></th>\n",
       "    </tr>\n",
       "  </thead>\n",
       "  <tbody>\n",
       "    <tr>\n",
       "      <th rowspan=\"5\" valign=\"top\">1880</th>\n",
       "      <th>0</th>\n",
       "      <td>Mary</td>\n",
       "      <td>F</td>\n",
       "      <td>7065</td>\n",
       "    </tr>\n",
       "    <tr>\n",
       "      <th>1</th>\n",
       "      <td>Anna</td>\n",
       "      <td>F</td>\n",
       "      <td>2604</td>\n",
       "    </tr>\n",
       "    <tr>\n",
       "      <th>2</th>\n",
       "      <td>Emma</td>\n",
       "      <td>F</td>\n",
       "      <td>2003</td>\n",
       "    </tr>\n",
       "    <tr>\n",
       "      <th>3</th>\n",
       "      <td>Elizabeth</td>\n",
       "      <td>F</td>\n",
       "      <td>1939</td>\n",
       "    </tr>\n",
       "    <tr>\n",
       "      <th>4</th>\n",
       "      <td>Minnie</td>\n",
       "      <td>F</td>\n",
       "      <td>1746</td>\n",
       "    </tr>\n",
       "  </tbody>\n",
       "</table>\n",
       "</div>"
      ],
      "text/plain": [
       "               Name Gender  Count\n",
       "Year Pos                         \n",
       "1880 0         Mary      F   7065\n",
       "     1         Anna      F   2604\n",
       "     2         Emma      F   2003\n",
       "     3    Elizabeth      F   1939\n",
       "     4       Minnie      F   1746"
      ]
     },
     "execution_count": 7,
     "metadata": {},
     "output_type": "execute_result"
    }
   ],
   "source": [
    "names_all.head()"
   ]
  },
  {
   "cell_type": "code",
   "execution_count": 62,
   "metadata": {
    "collapsed": true
   },
   "outputs": [],
   "source": [
    "# Функция которая выводит ТОП-3 за указанные года (список years). Данные за все года в names_by_year.\n",
    "def count_top(names_all, years, top):\n",
    "    # years_only набор данных только за те года, которые есть в списке years\n",
    "    years_only = pd.concat([data for year, data in names_by_year.items() if year in years])\n",
    "    years_only = years_only.sort_values(by='Count', ascending=False)\n",
    "    result = years_only.head(top)\n",
    "    return [name for name in result.Name]"
   ]
  },
  {
   "cell_type": "code",
   "execution_count": 64,
   "metadata": {
    "collapsed": false
   },
   "outputs": [
    {
     "data": {
      "text/plain": [
       "['John', 'William', 'Mary']"
      ]
     },
     "execution_count": 64,
     "metadata": {},
     "output_type": "execute_result"
    }
   ],
   "source": [
    "# Выводим ТОП-3 имен за 1880 год\n",
    "count_top(names_by_year, [1880], 3)  "
   ]
  },
  {
   "cell_type": "code",
   "execution_count": 67,
   "metadata": {
    "collapsed": false
   },
   "outputs": [
    {
     "data": {
      "text/plain": [
       "['James', 'Robert', 'Linda']"
      ]
     },
     "execution_count": 67,
     "metadata": {},
     "output_type": "execute_result"
    }
   ],
   "source": [
    "# Выводим ТОП-3 имен за годы [1900, 1950, 2000]\n",
    "count_top(names_by_year, [1900, 1950, 2000], 3)   "
   ]
  },
  {
   "cell_type": "markdown",
   "metadata": {},
   "source": [
    "#### Дополнительное задание"
   ]
  },
  {
   "cell_type": "code",
   "execution_count": 79,
   "metadata": {
    "collapsed": true
   },
   "outputs": [],
   "source": [
    "# Функция расчета динакими изменения количетсва имен (мужские и женские отдельно) за определенные года\n",
    "def count_dynamics(years):\n",
    "    result = {'F':[], 'M':[]}\n",
    "    # years_only набор данных только за те года, которые есть в списке years\n",
    "    for year in years:\n",
    "        data = names_by_year[year]\n",
    "        result['M'].append(data[data.Gender == 'M'].Count.sum())\n",
    "        result['F'].append(data[data.Gender == 'F'].Count.sum())\n",
    "    return result"
   ]
  },
  {
   "cell_type": "code",
   "execution_count": 80,
   "metadata": {
    "collapsed": false
   },
   "outputs": [
    {
     "data": {
      "text/plain": [
       "{'F': [299822, 1713450, 1814738], 'M': [150490, 1791474, 1962556]}"
      ]
     },
     "execution_count": 80,
     "metadata": {},
     "output_type": "execute_result"
    }
   ],
   "source": [
    "# Вызываем функцию\n",
    "count_dynamics([1900, 1950, 2000])"
   ]
  },
  {
   "cell_type": "code",
   "execution_count": null,
   "metadata": {
    "collapsed": true
   },
   "outputs": [],
   "source": []
  }
 ],
 "metadata": {
  "kernelspec": {
   "display_name": "Python [default]",
   "language": "python",
   "name": "python3"
  },
  "language_info": {
   "codemirror_mode": {
    "name": "ipython",
    "version": 3
   },
   "file_extension": ".py",
   "mimetype": "text/x-python",
   "name": "python",
   "nbconvert_exporter": "python",
   "pygments_lexer": "ipython3",
   "version": "3.5.2"
  }
 },
 "nbformat": 4,
 "nbformat_minor": 1
}
