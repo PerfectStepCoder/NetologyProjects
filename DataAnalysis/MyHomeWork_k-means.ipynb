{
 "cells": [
  {
   "cell_type": "markdown",
   "metadata": {},
   "source": [
    "### Стандартные импорты и настройки"
   ]
  },
  {
   "cell_type": "code",
   "execution_count": 7,
   "metadata": {
    "collapsed": true
   },
   "outputs": [],
   "source": [
    "import requests\n",
    "import re\n",
    "import pandas as pd\n",
    "import numpy as np\n",
    "import matplotlib.pyplot as plt\n",
    "\n",
    "%matplotlib inline"
   ]
  },
  {
   "cell_type": "markdown",
   "metadata": {},
   "source": [
    "### Scipy\n",
    "\n",
    "Импортируем функции из библиотеки для кластеризации и векторного квантования.\n",
    "\n",
    "https://docs.scipy.org/doc/scipy-0.18.1/reference/cluster.vq.html"
   ]
  },
  {
   "cell_type": "code",
   "execution_count": 8,
   "metadata": {
    "collapsed": true
   },
   "outputs": [],
   "source": [
    "from scipy.cluster.vq import whiten, kmeans2"
   ]
  },
  {
   "cell_type": "markdown",
   "metadata": {},
   "source": [
    "### Подключаем API\n",
    "\n",
    "Для примера используем открытое API, которое предоставляет данные о футбольных командах и матчах. \n",
    "\n",
    "http://api.football-data.org/docs/v1/index.html\n",
    "\n",
    "Для полноценного использования лучше всего получить ключ, это довольно просто.\n",
    "\n",
    "http://api.football-data.org/register"
   ]
  },
  {
   "cell_type": "markdown",
   "metadata": {},
   "source": [
    "Для удобства зададим вспомогательный метод для обращения к API."
   ]
  },
  {
   "cell_type": "code",
   "execution_count": 9,
   "metadata": {
    "collapsed": false
   },
   "outputs": [],
   "source": [
    "def call_api(uri, result_key):\n",
    "    json = {}\n",
    "    try:\n",
    "        json = requests.get(uri, headers = { 'X-Auth-Token': 'c52b7825851b4357af3e06c1888152f0' }).json()\n",
    "        return json[result_key]\n",
    "    except:\n",
    "        print(json)\n",
    "        return None"
   ]
  },
  {
   "cell_type": "markdown",
   "metadata": {},
   "source": [
    "### Получаем команды"
   ]
  },
  {
   "cell_type": "code",
   "execution_count": 10,
   "metadata": {
    "collapsed": false
   },
   "outputs": [
    {
     "data": {
      "text/plain": [
       "[{'_links': {'fixtures': {'href': 'http://api.football-data.org/v1/teams/496/fixtures'},\n",
       "   'players': {'href': 'http://api.football-data.org/v1/teams/496/players'},\n",
       "   'self': {'href': 'http://api.football-data.org/v1/teams/496'}},\n",
       "  'code': None,\n",
       "  'crestUrl': 'http://upload.wikimedia.org/wikipedia/de/6/63/Rio_Ave_FC.svg',\n",
       "  'name': 'FC Rio Ave',\n",
       "  'shortName': 'Rio Ave',\n",
       "  'squadMarketValue': '21,125,000 €'},\n",
       " {'_links': {'fixtures': {'href': 'http://api.football-data.org/v1/teams/503/fixtures'},\n",
       "   'players': {'href': 'http://api.football-data.org/v1/teams/503/players'},\n",
       "   'self': {'href': 'http://api.football-data.org/v1/teams/503'}},\n",
       "  'code': 'FCP',\n",
       "  'crestUrl': 'http://upload.wikimedia.org/wikipedia/de/e/ed/FC_Porto_1922-2005.svg',\n",
       "  'name': 'FC Porto',\n",
       "  'shortName': 'Porto',\n",
       "  'squadMarketValue': '204,900,000 €'},\n",
       " {'_links': {'fixtures': {'href': 'http://api.football-data.org/v1/teams/583/fixtures'},\n",
       "   'players': {'href': 'http://api.football-data.org/v1/teams/583/players'},\n",
       "   'self': {'href': 'http://api.football-data.org/v1/teams/583'}},\n",
       "  'code': None,\n",
       "  'crestUrl': 'https://upload.wikimedia.org/wikipedia/pt/8/8c/Logo_Moreirense.svg',\n",
       "  'name': 'Moreirense FC',\n",
       "  'shortName': 'Moreirense',\n",
       "  'squadMarketValue': '9,950,000 €'},\n",
       " {'_links': {'fixtures': {'href': 'http://api.football-data.org/v1/teams/507/fixtures'},\n",
       "   'players': {'href': 'http://api.football-data.org/v1/teams/507/players'},\n",
       "   'self': {'href': 'http://api.football-data.org/v1/teams/507'}},\n",
       "  'code': None,\n",
       "  'crestUrl': 'http://upload.wikimedia.org/wikipedia/de/f/f2/FC_Pacos_de_Ferreira.svg',\n",
       "  'name': 'FC Paços de Ferreira',\n",
       "  'shortName': 'Ferreira',\n",
       "  'squadMarketValue': '17,725,000 €'},\n",
       " {'_links': {'fixtures': {'href': 'http://api.football-data.org/v1/teams/498/fixtures'},\n",
       "   'players': {'href': 'http://api.football-data.org/v1/teams/498/players'},\n",
       "   'self': {'href': 'http://api.football-data.org/v1/teams/498'}},\n",
       "  'code': 'SCP',\n",
       "  'crestUrl': 'https://upload.wikimedia.org/wikipedia/en/3/3e/Sporting_Clube_de_Portugal.png',\n",
       "  'name': 'Sporting CP',\n",
       "  'shortName': 'Sporting',\n",
       "  'squadMarketValue': '220,250,000 €'},\n",
       " {'_links': {'fixtures': {'href': 'http://api.football-data.org/v1/teams/504/fixtures'},\n",
       "   'players': {'href': 'http://api.football-data.org/v1/teams/504/players'},\n",
       "   'self': {'href': 'http://api.football-data.org/v1/teams/504'}},\n",
       "  'code': None,\n",
       "  'crestUrl': 'http://upload.wikimedia.org/wikipedia/de/3/3b/Marítimo_Funchal.svg',\n",
       "  'name': 'Maritimo Funchal',\n",
       "  'shortName': 'M Funchal',\n",
       "  'squadMarketValue': '18,275,000 €'},\n",
       " {'_links': {'fixtures': {'href': 'http://api.football-data.org/v1/teams/1049/fixtures'},\n",
       "   'players': {'href': 'http://api.football-data.org/v1/teams/1049/players'},\n",
       "   'self': {'href': 'http://api.football-data.org/v1/teams/1049'}},\n",
       "  'code': None,\n",
       "  'crestUrl': 'https://upload.wikimedia.org/wikipedia/commons/f/fc/Emblema_CD_Tondela.png',\n",
       "  'name': 'CD Tondela',\n",
       "  'shortName': 'Tondela',\n",
       "  'squadMarketValue': '11,575,000 €'},\n",
       " {'_links': {'fixtures': {'href': 'http://api.football-data.org/v1/teams/495/fixtures'},\n",
       "   'players': {'href': 'http://api.football-data.org/v1/teams/495/players'},\n",
       "   'self': {'href': 'http://api.football-data.org/v1/teams/495'}},\n",
       "  'code': 'SLB',\n",
       "  'crestUrl': 'http://upload.wikimedia.org/wikipedia/de/8/89/Logo_Benfica_Lissabon.svg',\n",
       "  'name': 'SL Benfica',\n",
       "  'shortName': 'Lisbon',\n",
       "  'squadMarketValue': '180,150,000 €'},\n",
       " {'_links': {'fixtures': {'href': 'http://api.football-data.org/v1/teams/810/fixtures'},\n",
       "   'players': {'href': 'http://api.football-data.org/v1/teams/810/players'},\n",
       "   'self': {'href': 'http://api.football-data.org/v1/teams/810'}},\n",
       "  'code': None,\n",
       "  'crestUrl': 'http://upload.wikimedia.org/wikipedia/en/4/40/Boavista_F.C._logo.svg',\n",
       "  'name': 'Boavista Porto FC',\n",
       "  'shortName': 'Boavista',\n",
       "  'squadMarketValue': '14,025,000 €'},\n",
       " {'_links': {'fixtures': {'href': 'http://api.football-data.org/v1/teams/712/fixtures'},\n",
       "   'players': {'href': 'http://api.football-data.org/v1/teams/712/players'},\n",
       "   'self': {'href': 'http://api.football-data.org/v1/teams/712'}},\n",
       "  'code': None,\n",
       "  'crestUrl': 'http://upload.wikimedia.org/wikipedia/de/b/b4/FC_Arouca.png',\n",
       "  'name': 'FC Arouca',\n",
       "  'shortName': 'Arouca',\n",
       "  'squadMarketValue': '18,025,000 €'},\n",
       " {'_links': {'fixtures': {'href': 'http://api.football-data.org/v1/teams/506/fixtures'},\n",
       "   'players': {'href': 'http://api.football-data.org/v1/teams/506/players'},\n",
       "   'self': {'href': 'http://api.football-data.org/v1/teams/506'}},\n",
       "  'code': None,\n",
       "  'crestUrl': 'http://upload.wikimedia.org/wikipedia/de/b/bd/Vitória_Setúbal.svg',\n",
       "  'name': 'Vitoria Setubal',\n",
       "  'shortName': 'Setubal',\n",
       "  'squadMarketValue': '21,200,000 €'},\n",
       " {'_links': {'fixtures': {'href': 'http://api.football-data.org/v1/teams/711/fixtures'},\n",
       "   'players': {'href': 'http://api.football-data.org/v1/teams/711/players'},\n",
       "   'self': {'href': 'http://api.football-data.org/v1/teams/711'}},\n",
       "  'code': None,\n",
       "  'crestUrl': 'http://upload.wikimedia.org/wikipedia/de/d/db/Belenenses_Lissabon.svg',\n",
       "  'name': 'C.F. Os Belenenses',\n",
       "  'shortName': 'B. Lisbon',\n",
       "  'squadMarketValue': '23,650,000 €'},\n",
       " {'_links': {'fixtures': {'href': 'http://api.football-data.org/v1/teams/502/fixtures'},\n",
       "   'players': {'href': 'http://api.football-data.org/v1/teams/502/players'},\n",
       "   'self': {'href': 'http://api.football-data.org/v1/teams/502'}},\n",
       "  'code': None,\n",
       "  'crestUrl': 'http://upload.wikimedia.org/wikipedia/de/8/81/Vitoria_Guimaraes.svg',\n",
       "  'name': 'Vitoria Guimaraes',\n",
       "  'shortName': 'Guimares',\n",
       "  'squadMarketValue': '32,850,000 €'},\n",
       " {'_links': {'fixtures': {'href': 'http://api.football-data.org/v1/teams/497/fixtures'},\n",
       "   'players': {'href': 'http://api.football-data.org/v1/teams/497/players'},\n",
       "   'self': {'href': 'http://api.football-data.org/v1/teams/497'}},\n",
       "  'code': None,\n",
       "  'crestUrl': 'http://upload.wikimedia.org/wikipedia/de/f/f3/Sporting_Clube_de_Braga.svg',\n",
       "  'name': 'Sporting Braga',\n",
       "  'shortName': 'Braga',\n",
       "  'squadMarketValue': '63,800,000 €'},\n",
       " {'_links': {'fixtures': {'href': 'http://api.football-data.org/v1/teams/582/fixtures'},\n",
       "   'players': {'href': 'http://api.football-data.org/v1/teams/582/players'},\n",
       "   'self': {'href': 'http://api.football-data.org/v1/teams/582'}},\n",
       "  'code': None,\n",
       "  'crestUrl': 'http://upload.wikimedia.org/wikipedia/de/1/14/GD_Estoril_Praia.svg',\n",
       "  'name': 'GD Estoril Praia',\n",
       "  'shortName': 'Estoril',\n",
       "  'squadMarketValue': '12,950,000 €'},\n",
       " {'_links': {'fixtures': {'href': 'http://api.football-data.org/v1/teams/500/fixtures'},\n",
       "   'players': {'href': 'http://api.football-data.org/v1/teams/500/players'},\n",
       "   'self': {'href': 'http://api.football-data.org/v1/teams/500'}},\n",
       "  'code': None,\n",
       "  'crestUrl': None,\n",
       "  'name': 'Feirense',\n",
       "  'shortName': None,\n",
       "  'squadMarketValue': None},\n",
       " {'_links': {'fixtures': {'href': 'http://api.football-data.org/v1/teams/501/fixtures'},\n",
       "   'players': {'href': 'http://api.football-data.org/v1/teams/501/players'},\n",
       "   'self': {'href': 'http://api.football-data.org/v1/teams/501'}},\n",
       "  'code': None,\n",
       "  'crestUrl': 'http://upload.wikimedia.org/wikipedia/de/e/ee/Nacional_Funchal.svg',\n",
       "  'name': 'Nacional Funchal',\n",
       "  'shortName': 'Funchal',\n",
       "  'squadMarketValue': '21,925,000 €'},\n",
       " {'_links': {'fixtures': {'href': 'http://api.football-data.org/v1/teams/1103/fixtures'},\n",
       "   'players': {'href': 'http://api.football-data.org/v1/teams/1103/players'},\n",
       "   'self': {'href': 'http://api.football-data.org/v1/teams/1103'}},\n",
       "  'code': None,\n",
       "  'crestUrl': 'https://upload.wikimedia.org/wikipedia/en/0/05/G_D_Chaves.png',\n",
       "  'name': 'G.D. Chaves',\n",
       "  'shortName': 'Chaves',\n",
       "  'squadMarketValue': None}]"
      ]
     },
     "execution_count": 10,
     "metadata": {},
     "output_type": "execute_result"
    }
   ],
   "source": [
    "teams = call_api('http://api.football-data.org/v1/soccerseasons/439/teams', 'teams')\n",
    "teams"
   ]
  },
  {
   "cell_type": "markdown",
   "metadata": {},
   "source": [
    "Для каждой команды получаем игроков и игры."
   ]
  },
  {
   "cell_type": "code",
   "execution_count": 11,
   "metadata": {
    "collapsed": false
   },
   "outputs": [
    {
     "name": "stdout",
     "output_type": "stream",
     "text": [
      "Team \"FC Rio Ave\", 26 players, 21 wins, 22 losts, 21125000.0 cost\n",
      "Team \"FC Porto\", 29 players, 44 wins, 11 losts, 204900000.0 cost\n",
      "Team \"Moreirense FC\", 25 players, 15 wins, 29 losts, 9950000.0 cost\n",
      "Team \"FC Paços de Ferreira\", 27 players, 17 wins, 26 losts, 17725000.0 cost\n",
      "Team \"Sporting CP\", 30 players, 34 wins, 24 losts, 220250000.0 cost\n",
      "Team \"Maritimo Funchal\", 34 players, 15 wins, 14 losts, 18275000.0 cost\n",
      "Team \"CD Tondela\", 29 players, 13 wins, 29 losts, 11575000.0 cost\n",
      "Team \"SL Benfica\", 30 players, 47 wins, 21 losts, 180150000.0 cost\n",
      "Team \"Boavista Porto FC\", 36 players, 20 wins, 21 losts, 14025000.0 cost\n",
      "Team \"FC Arouca\", 26 players, 17 wins, 21 losts, 18025000.0 cost\n",
      "Team \"Vitoria Setubal\", 34 players, 17 wins, 17 losts, 21200000.0 cost\n",
      "Team \"C.F. Os Belenenses\", 29 players, 11 wins, 16 losts, 23650000.0 cost\n",
      "Team \"Vitoria Guimaraes\", 27 players, 27 wins, 19 losts, 32850000.0 cost\n",
      "Team \"Sporting Braga\", 33 players, 29 wins, 13 losts, 63800000.0 cost\n",
      "Team \"GD Estoril Praia\", 26 players, 12 wins, 21 losts, 12950000.0 cost\n",
      "Team \"Feirense\", 0 players, 13 wins, 32 losts, 0.0 cost\n",
      "Team \"Nacional Funchal\", 26 players, 14 wins, 26 losts, 21925000.0 cost\n",
      "Team \"G.D. Chaves\", 0 players, 19 wins, 17 losts, 0.0 cost\n"
     ]
    }
   ],
   "source": [
    "for team in teams:\n",
    "    players = call_api(team['_links']['players']['href'], 'players')\n",
    "    fixtures = call_api(team['_links']['fixtures']['href'], 'fixtures')\n",
    "    wins = 0\n",
    "    losts = 0\n",
    "    for f in fixtures:\n",
    "        if team['name'] == f['homeTeamName']:\n",
    "            wins += f['result']['goalsHomeTeam'] if f['result']['goalsHomeTeam'] else 0\n",
    "        else:\n",
    "            wins += f['result']['goalsAwayTeam'] if f['result']['goalsAwayTeam'] else 0\n",
    "    for f in fixtures:\n",
    "        if team['name'] != f['homeTeamName']:\n",
    "            losts += f['result']['goalsHomeTeam'] if f['result']['goalsHomeTeam'] else 0\n",
    "        else:\n",
    "            losts += f['result']['goalsAwayTeam'] if f['result']['goalsAwayTeam'] else 0\n",
    "    cost = 0.0\n",
    "    if team['squadMarketValue']:\n",
    "        cost = float(re.sub(\"\\D\", \"\", team['squadMarketValue']))\n",
    "    print('Team \"{}\", {} players, {} wins, {} losts, {} cost'.format(team['name'], len(players), wins, losts, cost))\n",
    "    team['players'] = players\n",
    "    team['wins'] = wins\n",
    "    team['cost'] = cost\n",
    "    team['losts'] = losts"
   ]
  },
  {
   "cell_type": "markdown",
   "metadata": {},
   "source": [
    "Готовим данные для трансформации в Pandas"
   ]
  },
  {
   "cell_type": "code",
   "execution_count": 12,
   "metadata": {
    "collapsed": false
   },
   "outputs": [
    {
     "data": {
      "text/plain": [
       "[{'cost': 21125000.0, 'losts': 22, 'name': 'FC Rio Ave'},\n",
       " {'cost': 204900000.0, 'losts': 11, 'name': 'FC Porto'},\n",
       " {'cost': 9950000.0, 'losts': 29, 'name': 'Moreirense FC'},\n",
       " {'cost': 17725000.0, 'losts': 26, 'name': 'FC Paços de Ferreira'},\n",
       " {'cost': 220250000.0, 'losts': 24, 'name': 'Sporting CP'},\n",
       " {'cost': 18275000.0, 'losts': 14, 'name': 'Maritimo Funchal'},\n",
       " {'cost': 11575000.0, 'losts': 29, 'name': 'CD Tondela'},\n",
       " {'cost': 180150000.0, 'losts': 21, 'name': 'SL Benfica'},\n",
       " {'cost': 14025000.0, 'losts': 21, 'name': 'Boavista Porto FC'},\n",
       " {'cost': 18025000.0, 'losts': 21, 'name': 'FC Arouca'},\n",
       " {'cost': 21200000.0, 'losts': 17, 'name': 'Vitoria Setubal'},\n",
       " {'cost': 23650000.0, 'losts': 16, 'name': 'C.F. Os Belenenses'},\n",
       " {'cost': 32850000.0, 'losts': 19, 'name': 'Vitoria Guimaraes'},\n",
       " {'cost': 63800000.0, 'losts': 13, 'name': 'Sporting Braga'},\n",
       " {'cost': 12950000.0, 'losts': 21, 'name': 'GD Estoril Praia'},\n",
       " {'cost': 21925000.0, 'losts': 26, 'name': 'Nacional Funchal'}]"
      ]
     },
     "execution_count": 12,
     "metadata": {},
     "output_type": "execute_result"
    }
   ],
   "source": [
    "team_for_pd = []\n",
    "for team in teams:\n",
    "    if team['players']:\n",
    "        team_for_pd.append({'name': team['name'], 'cost': team['cost'], 'losts': team['losts']})\n",
    "team_for_pd"
   ]
  },
  {
   "cell_type": "markdown",
   "metadata": {},
   "source": [
    "Трансформируем"
   ]
  },
  {
   "cell_type": "code",
   "execution_count": 13,
   "metadata": {
    "collapsed": false
   },
   "outputs": [
    {
     "data": {
      "text/html": [
       "<div>\n",
       "<table border=\"1\" class=\"dataframe\">\n",
       "  <thead>\n",
       "    <tr style=\"text-align: right;\">\n",
       "      <th></th>\n",
       "      <th>cost</th>\n",
       "      <th>losts</th>\n",
       "      <th>name</th>\n",
       "    </tr>\n",
       "  </thead>\n",
       "  <tbody>\n",
       "    <tr>\n",
       "      <th>0</th>\n",
       "      <td>21125000.0</td>\n",
       "      <td>22</td>\n",
       "      <td>FC Rio Ave</td>\n",
       "    </tr>\n",
       "    <tr>\n",
       "      <th>1</th>\n",
       "      <td>204900000.0</td>\n",
       "      <td>11</td>\n",
       "      <td>FC Porto</td>\n",
       "    </tr>\n",
       "    <tr>\n",
       "      <th>2</th>\n",
       "      <td>9950000.0</td>\n",
       "      <td>29</td>\n",
       "      <td>Moreirense FC</td>\n",
       "    </tr>\n",
       "    <tr>\n",
       "      <th>3</th>\n",
       "      <td>17725000.0</td>\n",
       "      <td>26</td>\n",
       "      <td>FC Paços de Ferreira</td>\n",
       "    </tr>\n",
       "    <tr>\n",
       "      <th>4</th>\n",
       "      <td>220250000.0</td>\n",
       "      <td>24</td>\n",
       "      <td>Sporting CP</td>\n",
       "    </tr>\n",
       "    <tr>\n",
       "      <th>5</th>\n",
       "      <td>18275000.0</td>\n",
       "      <td>14</td>\n",
       "      <td>Maritimo Funchal</td>\n",
       "    </tr>\n",
       "    <tr>\n",
       "      <th>6</th>\n",
       "      <td>11575000.0</td>\n",
       "      <td>29</td>\n",
       "      <td>CD Tondela</td>\n",
       "    </tr>\n",
       "    <tr>\n",
       "      <th>7</th>\n",
       "      <td>180150000.0</td>\n",
       "      <td>21</td>\n",
       "      <td>SL Benfica</td>\n",
       "    </tr>\n",
       "    <tr>\n",
       "      <th>8</th>\n",
       "      <td>14025000.0</td>\n",
       "      <td>21</td>\n",
       "      <td>Boavista Porto FC</td>\n",
       "    </tr>\n",
       "    <tr>\n",
       "      <th>9</th>\n",
       "      <td>18025000.0</td>\n",
       "      <td>21</td>\n",
       "      <td>FC Arouca</td>\n",
       "    </tr>\n",
       "    <tr>\n",
       "      <th>10</th>\n",
       "      <td>21200000.0</td>\n",
       "      <td>17</td>\n",
       "      <td>Vitoria Setubal</td>\n",
       "    </tr>\n",
       "    <tr>\n",
       "      <th>11</th>\n",
       "      <td>23650000.0</td>\n",
       "      <td>16</td>\n",
       "      <td>C.F. Os Belenenses</td>\n",
       "    </tr>\n",
       "    <tr>\n",
       "      <th>12</th>\n",
       "      <td>32850000.0</td>\n",
       "      <td>19</td>\n",
       "      <td>Vitoria Guimaraes</td>\n",
       "    </tr>\n",
       "    <tr>\n",
       "      <th>13</th>\n",
       "      <td>63800000.0</td>\n",
       "      <td>13</td>\n",
       "      <td>Sporting Braga</td>\n",
       "    </tr>\n",
       "    <tr>\n",
       "      <th>14</th>\n",
       "      <td>12950000.0</td>\n",
       "      <td>21</td>\n",
       "      <td>GD Estoril Praia</td>\n",
       "    </tr>\n",
       "    <tr>\n",
       "      <th>15</th>\n",
       "      <td>21925000.0</td>\n",
       "      <td>26</td>\n",
       "      <td>Nacional Funchal</td>\n",
       "    </tr>\n",
       "  </tbody>\n",
       "</table>\n",
       "</div>"
      ],
      "text/plain": [
       "           cost  losts                  name\n",
       "0    21125000.0     22            FC Rio Ave\n",
       "1   204900000.0     11              FC Porto\n",
       "2     9950000.0     29         Moreirense FC\n",
       "3    17725000.0     26  FC Paços de Ferreira\n",
       "4   220250000.0     24           Sporting CP\n",
       "5    18275000.0     14      Maritimo Funchal\n",
       "6    11575000.0     29            CD Tondela\n",
       "7   180150000.0     21            SL Benfica\n",
       "8    14025000.0     21     Boavista Porto FC\n",
       "9    18025000.0     21             FC Arouca\n",
       "10   21200000.0     17       Vitoria Setubal\n",
       "11   23650000.0     16    C.F. Os Belenenses\n",
       "12   32850000.0     19     Vitoria Guimaraes\n",
       "13   63800000.0     13        Sporting Braga\n",
       "14   12950000.0     21      GD Estoril Praia\n",
       "15   21925000.0     26      Nacional Funchal"
      ]
     },
     "execution_count": 13,
     "metadata": {},
     "output_type": "execute_result"
    }
   ],
   "source": [
    "teams_pd = pd.DataFrame(team_for_pd)\n",
    "teams_pd"
   ]
  },
  {
   "cell_type": "markdown",
   "metadata": {},
   "source": [
    "### Отображаем все команды"
   ]
  },
  {
   "cell_type": "code",
   "execution_count": 14,
   "metadata": {
    "collapsed": false,
    "scrolled": true
   },
   "outputs": [
    {
     "data": {
      "text/plain": [
       "<matplotlib.axes._subplots.AxesSubplot at 0x96a53c8>"
      ]
     },
     "execution_count": 14,
     "metadata": {},
     "output_type": "execute_result"
    },
    {
     "data": {
      "image/png": "[encoded data removed]",
      "text/plain": [
       "<matplotlib.figure.Figure at 0x96f49b0>"
      ]
     },
     "metadata": {},
     "output_type": "display_data"
    }
   ],
   "source": [
    "teams_pd.plot.scatter(x='cost', y='losts', s=100)"
   ]
  },
  {
   "cell_type": "markdown",
   "metadata": {},
   "source": [
    "Удаляем колонку с именами"
   ]
  },
  {
   "cell_type": "code",
   "execution_count": 15,
   "metadata": {
    "collapsed": false
   },
   "outputs": [
    {
     "data": {
      "text/html": [
       "<div>\n",
       "<table border=\"1\" class=\"dataframe\">\n",
       "  <thead>\n",
       "    <tr style=\"text-align: right;\">\n",
       "      <th></th>\n",
       "      <th>cost</th>\n",
       "      <th>losts</th>\n",
       "    </tr>\n",
       "  </thead>\n",
       "  <tbody>\n",
       "    <tr>\n",
       "      <th>0</th>\n",
       "      <td>21125000.0</td>\n",
       "      <td>22</td>\n",
       "    </tr>\n",
       "    <tr>\n",
       "      <th>1</th>\n",
       "      <td>204900000.0</td>\n",
       "      <td>11</td>\n",
       "    </tr>\n",
       "    <tr>\n",
       "      <th>2</th>\n",
       "      <td>9950000.0</td>\n",
       "      <td>29</td>\n",
       "    </tr>\n",
       "    <tr>\n",
       "      <th>3</th>\n",
       "      <td>17725000.0</td>\n",
       "      <td>26</td>\n",
       "    </tr>\n",
       "    <tr>\n",
       "      <th>4</th>\n",
       "      <td>220250000.0</td>\n",
       "      <td>24</td>\n",
       "    </tr>\n",
       "    <tr>\n",
       "      <th>5</th>\n",
       "      <td>18275000.0</td>\n",
       "      <td>14</td>\n",
       "    </tr>\n",
       "    <tr>\n",
       "      <th>6</th>\n",
       "      <td>11575000.0</td>\n",
       "      <td>29</td>\n",
       "    </tr>\n",
       "    <tr>\n",
       "      <th>7</th>\n",
       "      <td>180150000.0</td>\n",
       "      <td>21</td>\n",
       "    </tr>\n",
       "    <tr>\n",
       "      <th>8</th>\n",
       "      <td>14025000.0</td>\n",
       "      <td>21</td>\n",
       "    </tr>\n",
       "    <tr>\n",
       "      <th>9</th>\n",
       "      <td>18025000.0</td>\n",
       "      <td>21</td>\n",
       "    </tr>\n",
       "    <tr>\n",
       "      <th>10</th>\n",
       "      <td>21200000.0</td>\n",
       "      <td>17</td>\n",
       "    </tr>\n",
       "    <tr>\n",
       "      <th>11</th>\n",
       "      <td>23650000.0</td>\n",
       "      <td>16</td>\n",
       "    </tr>\n",
       "    <tr>\n",
       "      <th>12</th>\n",
       "      <td>32850000.0</td>\n",
       "      <td>19</td>\n",
       "    </tr>\n",
       "    <tr>\n",
       "      <th>13</th>\n",
       "      <td>63800000.0</td>\n",
       "      <td>13</td>\n",
       "    </tr>\n",
       "    <tr>\n",
       "      <th>14</th>\n",
       "      <td>12950000.0</td>\n",
       "      <td>21</td>\n",
       "    </tr>\n",
       "    <tr>\n",
       "      <th>15</th>\n",
       "      <td>21925000.0</td>\n",
       "      <td>26</td>\n",
       "    </tr>\n",
       "  </tbody>\n",
       "</table>\n",
       "</div>"
      ],
      "text/plain": [
       "           cost  losts\n",
       "0    21125000.0     22\n",
       "1   204900000.0     11\n",
       "2     9950000.0     29\n",
       "3    17725000.0     26\n",
       "4   220250000.0     24\n",
       "5    18275000.0     14\n",
       "6    11575000.0     29\n",
       "7   180150000.0     21\n",
       "8    14025000.0     21\n",
       "9    18025000.0     21\n",
       "10   21200000.0     17\n",
       "11   23650000.0     16\n",
       "12   32850000.0     19\n",
       "13   63800000.0     13\n",
       "14   12950000.0     21\n",
       "15   21925000.0     26"
      ]
     },
     "execution_count": 15,
     "metadata": {},
     "output_type": "execute_result"
    }
   ],
   "source": [
    "del teams_pd['name']\n",
    "teams_pd"
   ]
  },
  {
   "cell_type": "markdown",
   "metadata": {},
   "source": [
    "Нормализация данных"
   ]
  },
  {
   "cell_type": "code",
   "execution_count": 16,
   "metadata": {
    "collapsed": false
   },
   "outputs": [
    {
     "data": {
      "text/plain": [
       "array([[ 0.29538773,  4.17747144],\n",
       "       [ 2.86508619,  2.08873572],\n",
       "       [ 0.13912937,  5.50666689],\n",
       "       [ 0.24784604,  4.9370117 ],\n",
       "       [ 3.07972296,  4.55724157],\n",
       "       [ 0.2555366 ,  2.65839091],\n",
       "       [ 0.1618515 ,  5.50666689],\n",
       "       [ 2.51901063,  3.98758637],\n",
       "       [ 0.19610949,  3.98758637],\n",
       "       [ 0.25204089,  3.98758637],\n",
       "       [ 0.29643644,  3.22804611],\n",
       "       [ 0.33069443,  3.03816104],\n",
       "       [ 0.45933666,  3.60781624],\n",
       "       [ 0.8921059 ,  2.46850585],\n",
       "       [ 0.18107792,  3.98758637],\n",
       "       [ 0.30657401,  4.9370117 ]])"
      ]
     },
     "execution_count": 16,
     "metadata": {},
     "output_type": "execute_result"
    }
   ],
   "source": [
    "whitened = whiten(teams_pd.as_matrix())\n",
    "whitened"
   ]
  },
  {
   "cell_type": "markdown",
   "metadata": {},
   "source": [
    "### Сделаем 3 кластера"
   ]
  },
  {
   "cell_type": "code",
   "execution_count": 17,
   "metadata": {
    "collapsed": false
   },
   "outputs": [
    {
     "data": {
      "text/plain": [
       "(array([[ 0.44682201,  3.00018403],\n",
       "        [ 2.82127326,  3.54452122],\n",
       "        [ 0.22250212,  4.62844847]]),\n",
       " array([2, 1, 2, 2, 1, 0, 2, 1, 2, 2, 0, 0, 0, 0, 2, 2]))"
      ]
     },
     "execution_count": 17,
     "metadata": {},
     "output_type": "execute_result"
    }
   ],
   "source": [
    "centroids, cluster_map = kmeans2(whitened, 3)\n",
    "centroids, cluster_map"
   ]
  },
  {
   "cell_type": "markdown",
   "metadata": {},
   "source": [
    "Зададим цвета для каждого кластера"
   ]
  },
  {
   "cell_type": "code",
   "execution_count": 18,
   "metadata": {
    "collapsed": false
   },
   "outputs": [
    {
     "data": {
      "text/plain": [
       "['b',\n",
       " 'g',\n",
       " 'b',\n",
       " 'b',\n",
       " 'g',\n",
       " 'r',\n",
       " 'b',\n",
       " 'g',\n",
       " 'b',\n",
       " 'b',\n",
       " 'r',\n",
       " 'r',\n",
       " 'r',\n",
       " 'r',\n",
       " 'b',\n",
       " 'b']"
      ]
     },
     "execution_count": 18,
     "metadata": {},
     "output_type": "execute_result"
    }
   ],
   "source": [
    "colors_map = {0: 'r', 1: 'g', 2: 'b', 3: 'y', 4: 'm'}\n",
    "colors = [colors_map[c] for c in cluster_map]\n",
    "colors"
   ]
  },
  {
   "cell_type": "code",
   "execution_count": 19,
   "metadata": {
    "collapsed": false
   },
   "outputs": [
    {
     "data": {
      "text/plain": [
       "<matplotlib.axes._subplots.AxesSubplot at 0x98b1b38>"
      ]
     },
     "execution_count": 19,
     "metadata": {},
     "output_type": "execute_result"
    },
    {
     "data": {
      "image/png": "[encoded data removed]",
      "text/plain": [
       "<matplotlib.figure.Figure at 0x9838208>"
      ]
     },
     "metadata": {},
     "output_type": "display_data"
    }
   ],
   "source": [
    "teams_pd.plot.scatter(x='cost', y='losts', c=colors, s=100)"
   ]
  },
  {
   "cell_type": "markdown",
   "metadata": {},
   "source": [
    "### Теперь попробуем сделать больше кластеров (5 кластеров)"
   ]
  },
  {
   "cell_type": "code",
   "execution_count": 20,
   "metadata": {
    "collapsed": false
   },
   "outputs": [
    {
     "data": {
      "text/plain": [
       "(array([[ 0.21385023,  5.2218393 ],\n",
       "        [ 0.27679054,  3.94960936],\n",
       "        [ 2.79936679,  4.27241397],\n",
       "        [ 0.44369334,  2.84827598],\n",
       "        [ 2.86508619,  2.08873572]]),\n",
       " array([1, 4, 0, 0, 2, 3, 0, 2, 1, 1, 3, 3, 1, 3, 1, 0]))"
      ]
     },
     "execution_count": 20,
     "metadata": {},
     "output_type": "execute_result"
    }
   ],
   "source": [
    "centroids, cluster_map = kmeans2(whitened, 5)\n",
    "centroids, cluster_map"
   ]
  },
  {
   "cell_type": "code",
   "execution_count": 21,
   "metadata": {
    "collapsed": false
   },
   "outputs": [
    {
     "data": {
      "text/plain": [
       "['g',\n",
       " 'm',\n",
       " 'r',\n",
       " 'r',\n",
       " 'b',\n",
       " 'y',\n",
       " 'r',\n",
       " 'b',\n",
       " 'g',\n",
       " 'g',\n",
       " 'y',\n",
       " 'y',\n",
       " 'g',\n",
       " 'y',\n",
       " 'g',\n",
       " 'r']"
      ]
     },
     "execution_count": 21,
     "metadata": {},
     "output_type": "execute_result"
    }
   ],
   "source": [
    "colors_map = {0: 'r', 1: 'g', 2: 'b', 3: 'y', 4: 'm'}\n",
    "colors = [colors_map[c] for c in cluster_map]\n",
    "colors"
   ]
  },
  {
   "cell_type": "code",
   "execution_count": 22,
   "metadata": {
    "collapsed": false
   },
   "outputs": [
    {
     "data": {
      "text/plain": [
       "<matplotlib.axes._subplots.AxesSubplot at 0x98d1b38>"
      ]
     },
     "execution_count": 22,
     "metadata": {},
     "output_type": "execute_result"
    },
    {
     "data": {
      "image/png": "[encoded data removed]",
      "text/plain": [
       "<matplotlib.figure.Figure at 0x98b8d30>"
      ]
     },
     "metadata": {},
     "output_type": "display_data"
    }
   ],
   "source": [
    "teams_pd.plot.scatter(x='cost', y='losts', c=colors, s=100)"
   ]
  },
  {
   "cell_type": "code",
   "execution_count": null,
   "metadata": {
    "collapsed": true
   },
   "outputs": [],
   "source": []
  }
 ],
 "metadata": {
  "anaconda-cloud": {},
  "kernelspec": {
   "display_name": "Python [default]",
   "language": "python",
   "name": "python3"
  },
  "language_info": {
   "codemirror_mode": {
    "name": "ipython",
    "version": 3
   },
   "file_extension": ".py",
   "mimetype": "text/x-python",
   "name": "python",
   "nbconvert_exporter": "python",
   "pygments_lexer": "ipython3",
   "version": "3.5.2"
  }
 },
 "nbformat": 4,
 "nbformat_minor": 1
}
